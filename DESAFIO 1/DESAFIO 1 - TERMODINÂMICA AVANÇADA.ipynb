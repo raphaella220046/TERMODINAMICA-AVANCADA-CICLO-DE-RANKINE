{
 "cells": [
  {
   "cell_type": "markdown",
   "id": "26bdb6af-c5de-4a10-9df1-24046c4f5586",
   "metadata": {},
   "source": [
    "### DESAFIO 1\n",
    "\n",
    "O primeiro desafio para solução do problema principal envolve:\n",
    "\n",
    "- A definição de uma mistura com potencial para fornecimento de energia ao ciclo Rankine (responsável pela geração de energia elétrica)."
   ]
  },
  {
   "cell_type": "markdown",
   "id": "f97867d6-a818-42d7-8a77-cc22dafab261",
   "metadata": {},
   "source": [
    "#### Escolha das misturas e parâmetros"
   ]
  },
  {
   "cell_type": "markdown",
   "id": "c75c394f-39f1-49ef-b596-53f418889784",
   "metadata": {},
   "source": [
    "Antes de definir a mistura dos compostos, foram pesquisados líquidos combustíveis em potencial. Dois parâmetros foram fundamentais para escolha dos líquidos. A entalpia de combustão é uma grandeza termodinâmica que representa a quantidade de calor liberada ou absorvida durante a combustão completa de uma substância. É uma medida da energia total liberada quando um mol da substância reage completamente com um oxidante, geralmente oxigênio, sob condições específicas.\n",
    "\n",
    "Durante a reação de combustão, as ligações químicas nas moléculas da substância são quebradas e novas ligações são formadas com o oxidante. Esse processo libera energia na forma de calor. A entalpia de combustão é a quantidade líquida de calor liberada durante essa reação, levando em consideração a quantidade de reagentes consumidos e produtos formados. A entalpia de combustão pode variar dependendo das condições em que a reação ocorre, como a temperatura e a pressão em condições padrão (25 °C e 1 atm).\n",
    "\n",
    "Considerando que a combustão dos líquidos precisa liberar bastante calor para fornecer energia ao sistema, então os líquidos devem ter um alto valor de entalpia de combustão. Além desse parâmetros, foi analisado o ponto de ebulição dos combustíveis que deve apresentar um baixo valor, pois assim menos calor será fornecido à eles para a separação por vaporização. Ambos os parâmetros estão relacionados com a melhor eficiência do sistema.\n",
    "\n",
    "Os compostos líquidos determinados para a combustão foram o ciclohexano (C<sub>6</sub>H<sub>12</sub>) e o tolueno (C<sub>6</sub>H<sub>5</sub>CH<sub>3</sub>). Os parâmetros podem ser verificados na tabela a seguir.\n",
    "\n",
    "Outro critério considerado para a escolha é a disponibilização dos compostos no mercado, reduzindo interrupções na operação do sistema devido a indisponibilidade dos compostos."
   ]
  },
  {
   "cell_type": "markdown",
   "id": "e54e66e9-727b-434b-b51a-2f4f9b1a2691",
   "metadata": {},
   "source": [
    "<img src = 'tabela.png'>"
   ]
  },
  {
   "cell_type": "markdown",
   "id": "cfd77fdc-c0e2-48a9-9520-f966cd60d1ab",
   "metadata": {},
   "source": [
    "Fonte dos dados: https://webbook.nist.gov"
   ]
  },
  {
   "cell_type": "markdown",
   "id": "c5265e9d-b9e9-4271-b4e8-415222fc1b1b",
   "metadata": {},
   "source": [
    "De acordo com o diagrama de fases abaixo, obtido através da Florida State College at Jacksonville pelo link https://web.fscj.edu/milczanowski/ten/distill.pdf, apresenta a mistura binária ideal dos compostos líquidos. No ponto A do diagrama é possível obter o estado líquido para a mistura com uma concentração 75/25 para tolueno/ciclohexano a uma temperatura de 100°C e no ponto B a mistura atinge um estado de vapor a mais de 100°C."
   ]
  },
  {
   "cell_type": "markdown",
   "id": "68f83490-197a-4da4-9031-1ccb732f38c4",
   "metadata": {},
   "source": [
    "<img src='diagrama.png'>"
   ]
  }
 ],
 "metadata": {
  "kernelspec": {
   "display_name": "ilumpy",
   "language": "python",
   "name": "ilumpy"
  },
  "language_info": {
   "codemirror_mode": {
    "name": "ipython",
    "version": 3
   },
   "file_extension": ".py",
   "mimetype": "text/x-python",
   "name": "python",
   "nbconvert_exporter": "python",
   "pygments_lexer": "ipython3",
   "version": "3.9.7"
  }
 },
 "nbformat": 4,
 "nbformat_minor": 5
}
