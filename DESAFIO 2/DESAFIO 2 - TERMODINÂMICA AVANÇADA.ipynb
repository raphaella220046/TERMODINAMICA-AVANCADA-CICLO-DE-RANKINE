{
 "cells": [
  {
   "cell_type": "markdown",
   "id": "95c8229d-3f40-4c3c-b784-457df177fb0d",
   "metadata": {},
   "source": [
    "## Desafio 2"
   ]
  },
  {
   "cell_type": "markdown",
   "id": "9a624c9d-5911-40e3-b6dd-1a050b04a388",
   "metadata": {
    "tags": []
   },
   "source": [
    "O segundo desafio para a solução do problema de uma mistura binária líquida de combustíveis, para aplicar em uma usina elétrica a vapor que funciona pelo Ciclo de Rankine, consiste em:\n",
    "\n",
    "- A separação dos líquidos na mistura e a evaporação do combustível.\n",
    "\n",
    "Aspectos importantes a serem considerados:\n",
    "\n",
    "- O volume final da mistura calculado a partir dos volumes parciais molares.\n",
    "\n",
    "- O comportamento da mistura de líquido (ideal ou não ideal)\n",
    "\n",
    "- As características do diagrama de fases da mistura líquida.\n",
    "\n",
    "- A pressão de vapor dos compostos\n",
    "\n"
   ]
  },
  {
   "cell_type": "markdown",
   "id": "db33e157-b8ad-47bd-a6ba-4e635639c9f4",
   "metadata": {},
   "source": [
    "### Misturas"
   ]
  },
  {
   "cell_type": "markdown",
   "id": "83975bab-0217-4958-9dc1-f38caaa59010",
   "metadata": {},
   "source": [
    "As misturas entre substâncias são algo bastante comum na natureza. As misturas podem ser homogêneas ou heterogêneas, sendo que a diferença entre elas consiste na primeira possuir aspecto físico uniforme e constituir uma única fase termodinâmica, enquanto a segunda é formada por um agregado de fases termodinâmicas em coexistência, conforme OLIVEIRA(2012).\n",
    "\n",
    "Além dessa classificação, as misturas podem ser categorizadas como ideais ou reais, a depender do comportamento termodinâmico de seus componentes. Uma mistura ideal é uma mistura de dois ou mais componentes que segue as leis da termodinâmica sem desvios significativos. Nesse tipo de mistura, as interações entre as moléculas dos componentes são consideradas idênticas às interações entre moléculas do mesmo componente, o que significa que a energia livre de Gibbs da mistura pode ser calculada a partir das frações molares dos componentes e das suas respectivas energias livres de Gibbs em estado puro, utilizando-se a equação de mistura de Gibbs-Duhem. Enquanto as misturas reais apresentam grandes desvios das leis da termodinâmica, o que afeta a operação dos processos envolvendo as misturas, como a sua destilação.\n",
    "\n",
    "A separação dos componentes de uma mistura, para obter substâncias com certa pureza, pode ocorrer pela destilação em que o processo de separação dos líquidos envolve a evaporação dos composotos e a condensação do vapor em um sistema fechado.\n",
    "\n",
    "A energia livre de Gibbs é útil no estudo de misturas e permite identificar propriedades como a coexistência de fase e misturas miscíveis, ou seja, aquelas que não têm preferência de vizinhos, apresentando um comportamento de curva do diagrama de concentração dos compostos pela energia. Sendo assim, são misturas mais homogêneas.\n",
    "\n",
    "Quando duas fases coexistem, por exemplo estado líquido e estado de vapor, há o equilíbrio termodinâmico. Existe mais de uma coexistência de fases durante o processo de transição entre os estados dos compostos, e esse comportamento será visto ao longo deste notebook."
   ]
  },
  {
   "cell_type": "code",
   "execution_count": 1,
   "id": "65669e08-5ff0-451c-a65c-f15ce20bb9e6",
   "metadata": {},
   "outputs": [],
   "source": [
    "# Importações\n",
    "\n",
    "from lmfit.models import LinearModel\n",
    "import math\n",
    "import matplotlib\n",
    "import matplotlib.pyplot as plt\n",
    "import matplotlib.ticker as ticker\n",
    "import numpy as np\n",
    "import pandas as pd\n",
    "from scipy.optimize import fsolve\n",
    "from sklearn import linear_model\n",
    "from scipy.interpolate import UnivariateSpline\n",
    "from scipy.interpolate import interp1d"
   ]
  },
  {
   "cell_type": "markdown",
   "id": "dfea42f2-aae4-4e01-b243-aaabf38d79a6",
   "metadata": {},
   "source": [
    "Dados sobre temperatura e fração molar dos compostos tolueno e ciclohexano obtidos por meio do site *Vapor-Liquid Equilibrium Calculator*:"
   ]
  },
  {
   "cell_type": "code",
   "execution_count": 2,
   "id": "6598596e-b7f8-4f48-96bb-ed408e8729f6",
   "metadata": {},
   "outputs": [
    {
     "data": {
      "text/html": [
       "<div>\n",
       "<style scoped>\n",
       "    .dataframe tbody tr th:only-of-type {\n",
       "        vertical-align: middle;\n",
       "    }\n",
       "\n",
       "    .dataframe tbody tr th {\n",
       "        vertical-align: top;\n",
       "    }\n",
       "\n",
       "    .dataframe thead th {\n",
       "        text-align: right;\n",
       "    }\n",
       "</style>\n",
       "<table border=\"1\" class=\"dataframe\">\n",
       "  <thead>\n",
       "    <tr style=\"text-align: right;\">\n",
       "      <th></th>\n",
       "      <th>Temperature</th>\n",
       "      <th>x1</th>\n",
       "      <th>y1</th>\n",
       "    </tr>\n",
       "  </thead>\n",
       "  <tbody>\n",
       "    <tr>\n",
       "      <th>0</th>\n",
       "      <td>°C</td>\n",
       "      <td>mol fract.</td>\n",
       "      <td>NaN</td>\n",
       "    </tr>\n",
       "    <tr>\n",
       "      <th>1</th>\n",
       "      <td>80.7746</td>\n",
       "      <td>0</td>\n",
       "      <td>0.000000</td>\n",
       "    </tr>\n",
       "    <tr>\n",
       "      <th>2</th>\n",
       "      <td>80.7936</td>\n",
       "      <td>0.001</td>\n",
       "      <td>0.000523</td>\n",
       "    </tr>\n",
       "    <tr>\n",
       "      <th>3</th>\n",
       "      <td>80.7746</td>\n",
       "      <td>0</td>\n",
       "      <td>0.000000</td>\n",
       "    </tr>\n",
       "    <tr>\n",
       "      <th>4</th>\n",
       "      <td>80.7936</td>\n",
       "      <td>0.001</td>\n",
       "      <td>0.000523</td>\n",
       "    </tr>\n",
       "  </tbody>\n",
       "</table>\n",
       "</div>"
      ],
      "text/plain": [
       "  Temperature          x1         y1\n",
       "0         °C    mol fract.       NaN\n",
       "1     80.7746            0  0.000000\n",
       "2     80.7936        0.001  0.000523\n",
       "3     80.7746            0  0.000000\n",
       "4     80.7936        0.001  0.000523"
      ]
     },
     "execution_count": 2,
     "metadata": {},
     "output_type": "execute_result"
    }
   ],
   "source": [
    "dados = pd.read_csv('Dados temperatura Tolueno e Ciclohexano.txt', sep = ',', engine='python', header=0)\n",
    "dados.head()"
   ]
  },
  {
   "cell_type": "code",
   "execution_count": 3,
   "id": "88e3d6e5-ddb6-4b47-a08d-13de34155385",
   "metadata": {},
   "outputs": [],
   "source": [
    "temperatura = dados.iloc[1:46, 0].astype(float)\n",
    "fracao_molar_tolueno = dados.iloc[1:46, 1].astype(float)\n",
    "fracao_molar_ciclohexano = dados.iloc[1:46, 2].astype(float)"
   ]
  },
  {
   "cell_type": "markdown",
   "id": "d6f470bb-162e-4c21-b82a-da8c4e757ace",
   "metadata": {},
   "source": [
    "Diagrama de fases dos compostos em relação à temperatura (°C):"
   ]
  },
  {
   "cell_type": "code",
   "execution_count": 4,
   "id": "cc40ce06-fc92-415d-a222-61fc1c3d8e69",
   "metadata": {},
   "outputs": [
    {
     "data": {
      "image/png": "[encoded data removed]",
      "text/plain": [
       "<Figure size 432x288 with 1 Axes>"
      ]
     },
     "metadata": {
      "needs_background": "light"
     },
     "output_type": "display_data"
    }
   ],
   "source": [
    "plt.plot(fracao_molar_tolueno, temperatura, label='Tolueno')\n",
    "plt.plot(fracao_molar_ciclohexano, temperatura, label='Ciclohexano')\n",
    "plt.xlabel('← Ciclohexano | Fração Molar | Tolueno →')\n",
    "plt.legend()\n",
    "plt.ylabel('Temperatura (°C)')\n",
    "plt.title('Diagrama de fases')\n",
    "plt.grid()\n",
    "plt.show()"
   ]
  },
  {
   "cell_type": "markdown",
   "id": "e80991f9-a8ee-4528-9084-916be66e86d6",
   "metadata": {
    "tags": []
   },
   "source": [
    "O diagrama de fases representa as diversas fases termodinâmicas de uma mistura binária, em que os compostos estão submetidos a mudança de temperatura. Nesse sentido, é possível identificar no diagrama de fases o estado físico da mistura, para este caso dependendo da temperatura e concentração, considerando a pressão constante, ou seja, um sistema isobárico de equilíbrio entre líquido e vapor (VLE).\n",
    "\n",
    "Sendo assim, sob a influência da variação da temperatura, uma fração molar do composto se torna líquido e a outra substância se transforma em vapor. Isso possibilita a separação das misturas quando há uma variação da fração molar de um dos líquidos próximo de 0.99 e outro a uma concentração de aproximadamente 0.01, sendo que essa variável é complementar e dependente entre si. Desta forma,  a variação de uma fração molar interfere na variação de outra.\n",
    "\n",
    "Vale ressaltar que na natureza há a preferência por sistemas impuros, pois nas extremidades da curva, a derivada da energia livre de Gibbs tem alta variação e para $G'(x)$ em que x = 0 a derivada tem um valor infinito.\n",
    "\n",
    "No diagrama de fases para o Tolueno e Ciclohexano, é observado que se trata de uma mistura ideal pela curva de equilíbrio líquido vapor, que passa pelo ponto de ebulição de cada componente puro e pela composição da mistura, se aproximar de uma reta. Além disso, não apresenta ponto azeotrópico. Desta maneira, é possível aplicar a Lei de Raoult para obter a pressão de vapor da mistura, ou a partir dela, determinar a fração molar de cada componente da mistura.\n",
    "\n",
    "Quando a fração molar é equivalente a zero ou um, nos extremos do diagrama, as curvas dos compostos se encontram, o que significa que a mistura se reduz a uma substância pura, cuja transição líquido-vapor ocorre numa temperatura única.\n",
    "\n",
    "Conforme explicado por OLIVEIRA (2012), para o comportamento do sistema que consiste em apenas uma substância quando há a variação de temperatura:\n",
    "\n",
    "O calor introduzido transformará parte do líquido em vapor, aumentando o volume total do sistema líquido-vapor. Nesse processo, a temperatura permanecerá inalterada enquanto houver coexistência de fases. Além disso, tendo em vista que cada fase é homogênea, a densidade do líquido e a densidade do vapor são bem definidas e permanecem invariantes. Equivalentemente, o volume molar do líquido e o volume molar do vapor permanecem invariantes. A variação de volume será devida à transformação do líquido, que tem volume molar menor, em vapor, que tem volume molar maior. (OLIVEIRA, p. 122)\n",
    "\n",
    "Já para um sistema que contém uma mistura de substâncias, pode ser que elas não percam sua identidade quando entram na composição de uma mistura, não sofrendo transformação, pois não ocorrem reações químicas no interior da mistura e, portanto, o número de mols permanece inalterado antes e depois da composição da mistura, assim como o volume, ou pode haver uma reação em que ao misturar os compostos, essas variáveis se alterem por reações químicas entre as substâncias. No caso do tolueno e do ciclohexano, uma reação química exotérmica envolvendo o oxigênio é necessária para a liberação de energia sob a forma de calor (entalpia de combustão)."
   ]
  },
  {
   "cell_type": "code",
   "execution_count": 5,
   "id": "e092e6ad-d005-4866-a256-bb01b6694fc2",
   "metadata": {},
   "outputs": [],
   "source": [
    "# Dados dos compostos, conforme ANTIC (2014)\n",
    "\n",
    "P_t = 41.1  # Pressão de vapor do tolueno em kPa\n",
    "P_c = 14.6  # Pressão de vapor do ciclohexano em kPa\n",
    "T = 80  # Temperatura da mistura em °C\n",
    "f_t = 0.8  # Fração molar inicial do tolueno\n",
    "f_c = 1 - f_t  # Fração molar inicial do ciclohexano"
   ]
  },
  {
   "cell_type": "markdown",
   "id": "10625805-c14c-4f15-b86a-dacf355b3d73",
   "metadata": {},
   "source": [
    "Aplicação da Lei de Raoult iterativamente para obter as frações molares parciais da mistura até que ocorra a separação.\n",
    "\n",
    "Foi considerado como critério de parada quando um dos compostos atingir uma taxa de 99% e o outro, consequentemente, 1%."
   ]
  },
  {
   "cell_type": "code",
   "execution_count": 6,
   "id": "d96532f6-f32e-43b3-95da-901bf1dd0a38",
   "metadata": {},
   "outputs": [],
   "source": [
    "# Listas para armazenamento dos dados obtidos após o cálculo iterativo\n",
    "\n",
    "f_t_list = [f_t]\n",
    "f_c_list = [f_c]\n",
    "Tt_list = []\n",
    "Tc_list = []\n",
    "\n",
    "# Cálculo iterativo para obter a fração destilada dos compostos\n",
    "\n",
    "while f_t > 0.01 or f_c > 0.01:\n",
    "    P = f_t * P_t + f_c * P_c  # Pressão total da mistura em kPa\n",
    "    f_t = f_t * P_t / P  # Fração molar do tolueno no vapor\n",
    "    f_c = f_c * P_c / P  # Fração molar do ciclohexano no vapor\n",
    "    if f_t > 0.99 or f_c > 0.99:\n",
    "        break  # Caso a fração molar no vapor seja maior que 0.99, para o processo\n",
    "    f_t_list.append(f_t)\n",
    "    f_c_list.append(f_c)"
   ]
  },
  {
   "cell_type": "markdown",
   "id": "5770aad2-1c85-4228-89b5-5051634531da",
   "metadata": {},
   "source": [
    "Interpolação das frações molares considerando a fração molar e temperatura obtidas pelo site *Vapor-Liquid Equilibrium Calculator*:"
   ]
  },
  {
   "cell_type": "code",
   "execution_count": 7,
   "id": "223a7dd3-0ed6-4e64-92f8-05fe65fd1610",
   "metadata": {},
   "outputs": [],
   "source": [
    "for i in range(len(f_t_list)):\n",
    "    ponto = f_t_list[i]\n",
    "    f = interp1d(fracao_molar_tolueno, temperatura)\n",
    "    ponto_borda_inicial = f(ponto)\n",
    "    Tt_list.append(ponto_borda_inicial)\n",
    "    \n",
    "for i in range(len(f_c_list)):\n",
    "    ponto = f_c_list[i]\n",
    "    f = interp1d(fracao_molar_ciclohexano, temperatura)\n",
    "    ponto_borda_inicial = f(ponto)\n",
    "    Tc_list.append(ponto_borda_inicial)"
   ]
  },
  {
   "cell_type": "code",
   "execution_count": 8,
   "id": "8521ad48-a537-4b13-859b-ce61455a10fb",
   "metadata": {},
   "outputs": [
    {
     "name": "stdout",
     "output_type": "stream",
     "text": [
      "Frações molares obtidas para o tolueno ao aplicar iterativamente a Lei de Raoult: \n",
      " [0.8, 0.918435754189944, 0.9694175035868006, 0.9889176152576403]\n",
      "\n",
      "Frações molares obtidas para o ciclohexano ao aplicar iterativamente a Lei de Raoult: \n",
      " [0.19999999999999996, 0.08156424581005584, 0.03058249641319942, 0.011082384742359699]\n",
      "\n",
      "Temperaturas obtidas por interpolação para as frações molares do tolueno \n",
      " [array(99.9537), array(105.55970391), array(108.52123472), array(109.76675323)]\n",
      "\n",
      "Temperaturas obtidas por interpolação para as frações molares do ciclohexano \n",
      " [array(87.31685013), array(83.35996481), array(81.72569578), array(81.11805835)]\n",
      "\n",
      "Fração destilada de tolueno ao fim do processo: 0.9889\n",
      "Fração destilada de ciclohexano ao fim do processo: 0.0111\n"
     ]
    }
   ],
   "source": [
    "# Apresentação dos resultados\n",
    "\n",
    "print('Frações molares obtidas para o tolueno ao aplicar iterativamente a Lei de Raoult:', '\\n', f_t_list)\n",
    "print()\n",
    "print('Frações molares obtidas para o ciclohexano ao aplicar iterativamente a Lei de Raoult:', '\\n', f_c_list)\n",
    "print()\n",
    "print('Temperaturas obtidas por interpolação para as frações molares do tolueno', '\\n', Tt_list)\n",
    "print()\n",
    "print('Temperaturas obtidas por interpolação para as frações molares do ciclohexano', '\\n', Tc_list)\n",
    "print()\n",
    "print(\"Fração destilada de tolueno ao fim do processo:\", round(1 - f_c_list[-1],4))\n",
    "print(\"Fração destilada de ciclohexano ao fim do processo:\", round(1 - f_t_list[-1],4))"
   ]
  },
  {
   "cell_type": "code",
   "execution_count": 9,
   "id": "aa030627-edd7-48ae-bc4a-58e923b0dbdc",
   "metadata": {},
   "outputs": [
    {
     "data": {
      "image/png": "[encoded data removed]",
      "text/plain": [
       "<Figure size 432x288 with 1 Axes>"
      ]
     },
     "metadata": {
      "needs_background": "light"
     },
     "output_type": "display_data"
    }
   ],
   "source": [
    "# Geração do gráfico apresentando as frações obtidas durante o cálculo iterativo\n",
    "\n",
    "fig, ax = plt.subplots()\n",
    "\n",
    "plt.scatter(f_t_list[0], Tt_list[0], color='#0072b2')\n",
    "plt.scatter(f_t_list[1], Tt_list[1], color='#0072b2')\n",
    "plt.scatter(f_t_list[2], Tt_list[2], color='#0072b2')\n",
    "plt.scatter(f_t_list[3], Tt_list[3], color='#0072b2')\n",
    "\n",
    "plt.scatter(f_c_list[0], Tc_list[0], color='#F97306')\n",
    "plt.scatter(f_c_list[1], Tc_list[1], color='#F97306')\n",
    "plt.scatter(f_c_list[2], Tc_list[2], color='#F97306')\n",
    "plt.scatter(f_c_list[3], Tc_list[3], color='#F97306')\n",
    "\n",
    "plt.plot(fracao_molar_tolueno, temperatura, label='Tolueno')\n",
    "plt.plot(fracao_molar_ciclohexano, temperatura, label='Ciclohexano')\n",
    "plt.xlabel('← Ciclohexano | Fração Molar | Tolueno →')\n",
    "plt.legend()\n",
    "plt.ylabel('Temperatura (°C)')\n",
    "plt.title('Diagrama de fases')\n",
    "plt.grid()\n",
    "plt.show()"
   ]
  },
  {
   "cell_type": "markdown",
   "id": "c3cf05ac-8728-4110-9b07-8130754b94f7",
   "metadata": {},
   "source": [
    "O Diagrama de fases acima apresenta o comportamente das misturas durante a separação. Verifica-se que durante o processo há uma tendência em ambos os compostos se aproximarem das extremidades, na qual a fração molar do tolueno atinge a taxa de aproximadamente 99% e o ciclohexano decresce para cerca de 1% na mistura."
   ]
  },
  {
   "cell_type": "markdown",
   "id": "686b49a1-0435-42e2-8955-6d77eaa138b4",
   "metadata": {
    "tags": []
   },
   "source": [
    "### Cálculo do volume"
   ]
  },
  {
   "cell_type": "markdown",
   "id": "117d3503-7d79-4ddd-beaf-443a7d1be272",
   "metadata": {},
   "source": [
    "O volume pode ser calculado pelo volume parcial do composto 1 ($\\bar{v}_1$) multiplicado pelo seu número de mols ($n_1$) adicionado ao volume parcial do composto 2 ($\\bar{v}_2$) multiplicado pelo seu número de mols ($n_1$):"
   ]
  },
  {
   "cell_type": "markdown",
   "id": "c398e3c3-4a2c-4935-bb03-d94a66567210",
   "metadata": {},
   "source": [
    "$$\\large \\bar{v}_1 \\times n_1 + \\bar{v}_2 \\times n_2$$"
   ]
  },
  {
   "cell_type": "markdown",
   "id": "b2eec421-e42d-4c3c-ac86-fbfdb22ac90c",
   "metadata": {},
   "source": [
    "O volume por mol pode ser expresso ao dividir os termos pelo número de mols total da mistura, ou seja, ($n_1$ + $n_2$), obtendo:"
   ]
  },
  {
   "cell_type": "markdown",
   "id": "939d832a-c020-4aad-8413-c5be2648e917",
   "metadata": {},
   "source": [
    "$$\\large \\bar{v}_1 \\times x_1 + \\bar{v}_2 \\times x_2$$"
   ]
  },
  {
   "cell_type": "markdown",
   "id": "b907770f-4b88-4176-9c12-529c5b61c921",
   "metadata": {},
   "source": [
    "Em que $x_1 = \\frac{n_1}{n_1+n_2}$ e $x_2 = \\frac{n_2}{n_1+n_2}$"
   ]
  },
  {
   "cell_type": "markdown",
   "id": "80ac7040-4af3-41d1-ac43-382637504140",
   "metadata": {},
   "source": [
    "O volume por mol da mistura pode ser obtido ao considerar a densidade de uma mistura binária e $x_2 = 1 - x_1$, pois são grandezas complementares, da seguinte forma:"
   ]
  },
  {
   "cell_type": "markdown",
   "id": "6c4a5c77-8bd8-4607-bfe1-dc3e8a933a74",
   "metadata": {},
   "source": [
    "$$\\large V (por mol)= \\frac{x_1mw_1+(1-x_1)mw_2}{\\rho mistura(x_1)}$$\n",
    "\n",
    "Em que:\n",
    "\n",
    "- $v$ é o volume da mistura por unidade molar\n",
    "- $x_1$ é fração molar correspondente a um dos compostos\n",
    "- $mw_i$ é a abreviação de *molecular weight* de cada composto\n",
    "- $\\rho$ é a densidade da mistura em relação ao composto $x_1$"
   ]
  },
  {
   "cell_type": "markdown",
   "id": "fb77e839-e075-406e-aeaa-41fff7fbcd9e",
   "metadata": {},
   "source": [
    "#### A densidade da mistura foi obtida através de pesquisas na litetura\n",
    "Dados experimentais, conforme SILVA el al (2009):"
   ]
  },
  {
   "cell_type": "code",
   "execution_count": 10,
   "id": "8f6758a6-f7aa-4ea5-a56b-1ad7bacf93b3",
   "metadata": {},
   "outputs": [],
   "source": [
    "densidade_media = np.array([0.78795, 0.77870, 0.76920,  0.75965,  0.74990]).reshape(-1,1) # g/ml \n",
    "temperatura_K = np.array([283.15, 293.15, 303.15, 313.15, 323.15]).reshape(-1,1) # kelvin"
   ]
  },
  {
   "cell_type": "markdown",
   "id": "e5680773-6c2b-4db1-9225-bc9f5345671e",
   "metadata": {},
   "source": [
    "Os dados do artigo fornecem a densidade média para o intervalo de temperatura, que convertido está entre 10 à 50 °C, não abrangendo o intervalo dos dados utilizados que compreende entre, aproximadamente, 80°C à 110°C que são correspondentes ao ponto de ebulição do ciclohexano e tolueno, respectivamente. Neste sentido, se faz necessário aplicar uma extrapolação aos dados do artigo por regressão linear, para obter o valor de densidade no intervalo em análise, ao aproximar pela reta, visto que o comportamento dos dados obtidos variam na medida que a temperatura da mistura tolueno e ciclohexano aumenta, a densidade média da mistura diminui, expressando uma reta decrescente."
   ]
  },
  {
   "cell_type": "code",
   "execution_count": 11,
   "id": "a56c205a-2ec6-42d2-9d4d-5e83a85d1379",
   "metadata": {},
   "outputs": [
    {
     "name": "stdout",
     "output_type": "stream",
     "text": [
      "Previsto:\n",
      "A densidade_media prevista para a mistura a 383.8 k é: [[0.69234153]] g/ml\n"
     ]
    },
    {
     "data": {
      "image/png": "[encoded data removed]",
      "text/plain": [
       "<Figure size 432x288 with 1 Axes>"
      ]
     },
     "metadata": {
      "needs_background": "light"
     },
     "output_type": "display_data"
    }
   ],
   "source": [
    "T_k = 383.8 # referente ao maior ponto de ebulição (tolueno)\n",
    "\n",
    "# Cria o modelo linear\n",
    "regressao = linear_model.LinearRegression()\n",
    "\n",
    "# Treina o modelo com os dados de exemplo\n",
    "regressao.fit(temperatura_K, densidade_media)\n",
    "\n",
    "# Dados para previsão\n",
    "temp_prev = np.array([T_k]).reshape(-1,1)\n",
    "\n",
    "dens_prev = regressao.predict(temp_prev)\n",
    "print('Previsto:')\n",
    "print('A densidade_media prevista para a mistura a', T_k, 'k é:', dens_prev, 'g/ml')\n",
    "\n",
    "# Dados usados no treinamento\n",
    "plt.scatter(densidade_media, temperatura_K,  color='black')\n",
    "\n",
    "plt.xlabel('Densidade média em g/ml')\n",
    "plt.ylabel('Temperatura em K')\n",
    "\n",
    "plt.show()"
   ]
  },
  {
   "cell_type": "markdown",
   "id": "a1cfec53-bb81-4a60-82af-5acb1d96c304",
   "metadata": {},
   "source": [
    "Cálculo do volume total da mistura de tolueno e ciclohexano a 110,65°C, com base na massa molecular de cada composto e a fração molecular inicialmente estabelecida, e considerando a relação\n",
    "\n",
    "$$\\large Volume = \\frac{Massa}{Densidade}$$"
   ]
  },
  {
   "cell_type": "code",
   "execution_count": 12,
   "id": "104e6649-1cf2-4e2a-a3b3-e1de8df62146",
   "metadata": {},
   "outputs": [
    {
     "name": "stdout",
     "output_type": "stream",
     "text": [
      "O volume por mol da mistura de tolueno e ciclohexano a 110.65 °C é aproximadamente: 0.0011 ml/mol\n",
      "O volume total da mistura de tolueno e ciclohexano a 110.65 °C é aproximadamente: 1179.8648 L\n",
      "O volume total da mistura, considerando sua densidade, a 110.65 °C é aproximadamente: 1058.343 L\n"
     ]
    }
   ],
   "source": [
    "# Dados sobre massa, densidade, número de mols, fração molar e volume\n",
    "\n",
    "M_total = 1000 # kg/mol de massa para o sistema\n",
    "f_t = 0.8 # fração molar do tolueno\n",
    "f_c = 0.2 # fração molar do ciclohexano\n",
    "M_t = M_total * f_t # massa do tolueno em kg/mol\n",
    "M_c = M_total * f_c # massa do ciclohexano em kg/mol\n",
    "Mm_t = 0.9214 # Massa molar do tolueno em kg/mol\n",
    "Mm_c = 0.8416 # Massa molar do ciclohexano em kg/mol\n",
    "rho_t = 0.8669 # Densidade do tolueno em g/ml\n",
    "rho_c = 0.7781 # Densidade do ciclohexano em g/ml\n",
    "n_t = M_t / Mm_t # número de mols do tolueno\n",
    "n_c = M_c / Mm_c # número de mols do ciclohexano\n",
    "x_t = n_t / (n_t + n_c) # fração molar tolueno pelo número de mols\n",
    "x_c = n_c / (n_t + n_c) # fração molar ciclohexano pelo número de mols\n",
    "v_t = Mm_t / rho_t # volume molar do tolueno em m³/mol\n",
    "v_c = Mm_c / rho_c # volume molar do ciclohexano em m³/mol\n",
    "\n",
    "V_mol = (v_t * x_t) + (v_c * x_c) # volume molar da mistura em ml/mol\n",
    "V_total = (v_t * n_t) + (v_c * n_c) # volume total da mistura em L\n",
    "V_final = ((x_t * n_t + (1 - x_t) * n_c) / dens_prev) # volume total da mistura, considerando a densidade em L\n",
    "\n",
    "print('O volume por mol da mistura de tolueno e ciclohexano a', round(T_k-273.15, 2), '°C é aproximadamente:', float(np.round(V_mol/1000, decimals = 4)), 'ml/mol')\n",
    "print('O volume total da mistura de tolueno e ciclohexano a', round(T_k-273.15, 2), '°C é aproximadamente:', float(np.round(V_total, decimals = 4)), 'L')\n",
    "print('O volume total da mistura, considerando sua densidade, a', round(T_k-273.15, 2), '°C é aproximadamente:', float(np.round(V_final, decimals = 4)), 'L')"
   ]
  },
  {
   "cell_type": "markdown",
   "id": "0422515d-a0df-401a-9432-9fe4027d7266",
   "metadata": {},
   "source": [
    "O volume total a ser considerado para a mistura é de, aproximadamente, 1059 L para a temperatura de 110,65 °C, referente ao ponto de ebulição do tolueno, visto que a densidade obtida para essa temperatura é cerca de 0.69 g/ml. O critério para escolha da temperatura foi estabelecido a partir da densidade que é uma grandeza inversamente proporcional ao volume, ou seja, na medida que a densidade diminui, o volume aumenta e vice-versa. Pelos dados obtidos em pesquisa na literatura, foi observado que a densidade da mistura de tolueno e ciclohexano diminui com o aumento da temperatura, sendo assim, foi adotado o maior ponto de ebulição que é referente ao tolueno, extrapolando os dados conhecidos para encontrar a densidade em relação a esse ponto e, então, aplicar na equação do volume que considera a densidade prevista para a mistura."
   ]
  },
  {
   "cell_type": "markdown",
   "id": "bf31f84b-4a66-4c2d-b653-b7ed9eac4cbb",
   "metadata": {},
   "source": [
    "### Destilação Fracionada:\n",
    "\n",
    "- Fluxograma explicando o passo a passo do algoritmo"
   ]
  },
  {
   "cell_type": "markdown",
   "id": "b2b6dcd7-5f19-4000-80a8-71e8334a8cd4",
   "metadata": {},
   "source": [
    "<img src = 'fluxograma do algoritmo.png'>"
   ]
  },
  {
   "cell_type": "markdown",
   "id": "88f59817-46c5-424d-9893-2457ab377581",
   "metadata": {},
   "source": [
    "Para essa etapa foram aplicadas a equação de Clausius-Clapeyron para obter a pressão de vapor, dada uma variação de temperatura, e a Lei de Raoult para gerar os valores das frações molares respectivas as pressões obtidas, a fim de comparar com os dados anteriormente encontrados e determinar as pressões que não foram encontradas na literatura pesquisada."
   ]
  },
  {
   "cell_type": "markdown",
   "id": "d72ceea4-4cf9-430f-8122-b82d765a8207",
   "metadata": {},
   "source": [
    "O comportamento ideal de uma mistura binária é calculado a partir dos pontos de ebulição (pe) de seus componentes e o respectivo calor de vaporização (H - entalpia)."
   ]
  },
  {
   "cell_type": "code",
   "execution_count": 13,
   "id": "fcf70fd1-4843-4363-9d3f-375df0ef73cf",
   "metadata": {},
   "outputs": [],
   "source": [
    "# Dados dos compostos Variáveis:\n",
    "pe_ciclohexano = 353.9  # K\n",
    "pe_tolueno = 383.8  # K\n",
    "H_ciclohexano = 10346.8  # cal/mol\n",
    "H_tolueno = 9076.14  # cal/mol"
   ]
  },
  {
   "cell_type": "markdown",
   "id": "9360ac68-d474-4bbe-b97a-71d25c1555f3",
   "metadata": {},
   "source": [
    "A equação de Clausius-Clapeyron fornece a seguinte relação quantitativa entre a pressão de vapor de uma substância ($p$) e a sua temperatura (T). Desta forma, é capaz de prever o aumento da pressão de vapor a cada unidade de temperatura que aumenta no sistema.\n",
    "\n",
    "$$\\large p=p^*e^{\\frac{-\\Delta H}{R}(\\frac{1}{T} - \\frac{1}{T^*})}$$\n",
    "\n",
    "Em que:\n",
    "\n",
    "$p$ → é a pressão de vapor (em torr)\n",
    "\n",
    "$p^*$ → é a pressão de vapor do composto de referência (em torr)\n",
    "\n",
    "$\\Delta H$ → é o calor de vaporização (ou entalpia) do líquido (J/mol)\n",
    "\n",
    "$R$ → é a constante universal dos gases (8,314 J/mol⋅K)\n",
    "\n",
    "$T$ → é a temperatura de referência (Kelvin)\n",
    "\n",
    "$T^*$ → é o ponto de ebulição normal a 1 atm (Kelvin)"
   ]
  },
  {
   "cell_type": "code",
   "execution_count": 14,
   "id": "2db0b66c-535f-4d9d-bc53-e80e72153913",
   "metadata": {},
   "outputs": [],
   "source": [
    "def pressao_temperatura(h, t, p0, t0):\n",
    "    \n",
    "    '''Calcula a pressão de vapor de um líquido dada uma temperatura,\n",
    "    usando a equação de Clausius-Clapeyron.\n",
    "    \n",
    "    As referências mais convenientes p0 e t0 são do ponto de ebulição do composto ciclohexano\n",
    "    760 torr e 353.9 K.\n",
    "    \n",
    "    Parâmetros de entrada:\n",
    "    \n",
    "    h: O calor de vaporização em cal/mol\n",
    "    t: A temperatura em K\n",
    "    p0: Pressão de vapor de referência\n",
    "    t0: Temperatura de referência em K\n",
    "\n",
    "     Parâmetro de saída:\n",
    "    \n",
    "    A pressão de vapor na temperatura t.\n",
    "    '''\n",
    "\n",
    "    r = 1.987204  # conversão para cal/mol·K\n",
    "    e = - (h/r) * ((1/t) - (1/t0))\n",
    "    return p0 * math.exp(e)"
   ]
  },
  {
   "cell_type": "code",
   "execution_count": 15,
   "id": "8114edd2-3bb3-4d39-bdbc-7fd94920c014",
   "metadata": {},
   "outputs": [],
   "source": [
    "def pressao_tolueno(t):\n",
    "    \n",
    "    '''Calcula a pressão de vapor (torr) do tolueno, dada uma temperatura em K.'''\n",
    "    \n",
    "    return pressao_temperatura(H_tolueno, t, 760, pe_tolueno)\n",
    "\n",
    "def pressao_ciclohexano(t):\n",
    "    \n",
    "    '''Calcula a pressão de vapor (torr) do ciclohexano, dada uma temperatura em K.'''\n",
    "    \n",
    "    return pressao_temperatura(H_ciclohexano, t, 760, pe_ciclohexano)"
   ]
  },
  {
   "cell_type": "markdown",
   "id": "e5cdca56-c575-4896-b8e6-8325bfca1738",
   "metadata": {},
   "source": [
    "Para um sistema em equilíbrio, a Lei de Raoult afirma que cada composto é dependente da pressão de vapor dos compostos individuais e da fração molar dos mesmos. A partir das pressões de vapor parciais $P_i$ de cada composto A e B, calculada pela pressão de vapor dos componentes puros $P^*_i$, multiplicada pela fração molar relativa $X_i$, e considerando que a pressão total do sistema é a soma das pressões parciais, é possível obter a respectiva fração molar de cada substância, ou seja,\n",
    "\n",
    "$$P_A = X_A P^*_A$$\n",
    "\n",
    "$$P_B = X_B P^*_B$$\n",
    "\n",
    "Em que\n",
    "\n",
    "$$X_A + X_b = 1$$ é a soma das frações que correspondem a 100% da concentração. Somando as pressões parciais e fazendo as devidas substituições, tem-se\n",
    "\n",
    "$$P = P_A + P_B = X_A P^*_A + X_B P^*_B = X_A P^*_A + (1 - X_A) P^*_B = X_A P^*_A + P^*_B - X_A P^*_B$$\n",
    "\n",
    "Então,\n",
    "\n",
    "$$P = P^*_B + (P^*_A - P^*_B)  X_A$$\n",
    "\n",
    "Logo, é possíve determinar a fração molar de $X_A$ e, por conseguinte, $X_B$\n",
    "\n",
    "$$X_A = \\frac{P-P^*_B}{P^*_A-P^*_B}$$"
   ]
  },
  {
   "cell_type": "code",
   "execution_count": 16,
   "id": "cb3bff7a-36ea-427b-af34-bcaae536f525",
   "metadata": {},
   "outputs": [],
   "source": [
    "def fracao_ciclohexano_liquido(t):\n",
    "    \n",
    "    '''Calcula a fração molar de ciclohexano em uma mistura tolueno/ciclohexano,\n",
    "    dada a pressão total da mistura com referência em 760 torr e as pressões parciais.\n",
    "    '''\n",
    "    \n",
    "    p_ciclohexano = pressao_ciclohexano(t)\n",
    "    p_tolueno = pressao_tolueno(t)\n",
    "    return (760 - p_tolueno) / (p_ciclohexano - p_tolueno)\n",
    "\n",
    "def fracao_tolueno_liquido(t):\n",
    "    return 1.0 - fracao_ciclohexano_liquido(t)"
   ]
  },
  {
   "cell_type": "markdown",
   "id": "0aafa598-0fea-43ab-92c6-aded05279b5c",
   "metadata": {},
   "source": [
    "A Lei de Raoult pode ser expressa como um somatório para cada composto do sistema para fornecer a pressão da mistura:\n",
    "\n",
    "$$\\large P_{mistura} = \\sum_{i=1}^{N} P^*_A x_A^{líquido}$$\n",
    "\n",
    "Para calcular a fase de vapor, é possível correlacionar com a fase líquida da seguinte forma,\n",
    "$$\\large X_A^{vapor} = \\frac{P^*_A x_A^{líquido}}{P_{mistura}}$$\n",
    "\n",
    "Ou seja, a fração molar de um composto na fase de vapor é determinada ao multiplicar a fração molar do composto na fase líquida pela pressão de vapor desse composto puro e, em seguida, dividir pela pressão de referência da mistura, estabelecida como 760 torr, equivalente a 1 atm, pois as substâncias não estão submetidas a variação de pressão, e sim a uma alteração da temperatura."
   ]
  },
  {
   "cell_type": "code",
   "execution_count": 17,
   "id": "ece31562-8248-45d2-801d-7b0abb55670d",
   "metadata": {},
   "outputs": [],
   "source": [
    "def fracao_tolueno_vapor(t):\n",
    "    \n",
    "    '''Calcula a fração molar do tolueno na fase de vapor a uma dada temperatura t em K.\n",
    "    '''\n",
    "    \n",
    "    fracao_liquido = fracao_tolueno_liquido(t)\n",
    "    p = pressao_tolueno(t)\n",
    "    f_v = (fracao_liquido * p) / 760\n",
    "    return f_v"
   ]
  },
  {
   "cell_type": "code",
   "execution_count": 18,
   "id": "5c335c38-44c7-4c63-8b3a-23a734bdad17",
   "metadata": {},
   "outputs": [],
   "source": [
    "# Cria um intervalo de coordenadas para a temperatura e converte para °C\n",
    "\n",
    "t_k = np.arange(pe_ciclohexano, pe_tolueno, 0.01)  # K\n",
    "t_c = t_k - 273.15  # °C\n",
    "\n",
    "# Gera vetores da função X, e aplica em t_k para gerar as coordenadas x\n",
    "\n",
    "f_liquido = np.vectorize(fracao_tolueno_liquido)\n",
    "f_vapor = np.vectorize(fracao_tolueno_vapor)\n",
    "fracao_liquido = f_liquido(t_k)\n",
    "fracao_vapor = f_vapor(t_k)"
   ]
  },
  {
   "cell_type": "markdown",
   "id": "e3e3f4f0-fb0b-45ad-a5c6-37a83d8bbecc",
   "metadata": {},
   "source": [
    "#### Geração do diagrama de fases:"
   ]
  },
  {
   "cell_type": "code",
   "execution_count": 19,
   "id": "1e83eb52-5ef0-4de3-a26c-12f216d9b9c3",
   "metadata": {},
   "outputs": [
    {
     "data": {
      "image/png": "[encoded data removed]",
      "text/plain": [
       "<Figure size 432x288 with 1 Axes>"
      ]
     },
     "metadata": {
      "needs_background": "light"
     },
     "output_type": "display_data"
    }
   ],
   "source": [
    "# Aplica a função do Matplotlib que permite plotar mais de um gráfico na mesma figura e descrever seu layout\n",
    "\n",
    "fig, ax = plt.subplots()\n",
    "\n",
    "# Definição do intervalo para as coordenadas x e y do gráfico\n",
    "\n",
    "plt.xlim(-0.1, 1.1)\n",
    "plt.ylim(75.0, 115.0)\n",
    "\n",
    "# Atribuição dos valores para as coordenadas x (fração molar) e y (temperatura) de cada composto\n",
    "\n",
    "curva_liquido = ax.plot(fracao_liquido, t_c, color='#0072b2')\n",
    "curva_vapor = ax.plot(fracao_vapor, t_c, color='#008000')\n",
    "\n",
    "ax.set(xlabel='← Ciclohexano | Fração Molar | Tolueno →', ylabel='T (°C)',\n",
    "       title='Diagrama de Fases para Tolueno e Ciclohexano')\n",
    "\n",
    "# Configuração do grid\n",
    "\n",
    "ax.grid(b=True, which='major', color='#666666', linestyle='-')\n",
    "\n",
    "ax.minorticks_on()\n",
    "ax.xaxis.grid(b=True, which='minor', color='#999999', linestyle='-', alpha=0.2, markevery=0.02)\n",
    "ax.yaxis.grid(b=True, which='minor', color='#999999', linestyle='-', alpha=0.2)\n",
    "\n",
    "x_major_spacing = 0.1\n",
    "x_minor_spacing = 0.02\n",
    "ax.xaxis.set_minor_locator(ticker.MultipleLocator(x_minor_spacing))\n",
    "ax.xaxis.set_major_locator(ticker.MultipleLocator(x_major_spacing))\n",
    "\n",
    "plt.show()\n",
    "\n",
    "# plt.savefig('Diagrama de fases Tolueno e Ciclohexano', dpi=300, orientation='landscape', transparent=False)"
   ]
  },
  {
   "cell_type": "code",
   "execution_count": 20,
   "id": "5c4b1768-9838-4a9c-8b86-a51b96273ed6",
   "metadata": {},
   "outputs": [],
   "source": [
    "def temperaturas(fn, xi):\n",
    "    \n",
    "    '''Função para encontrar a temperatura em relação à fração molar, fn(t) = xi.\n",
    "    \n",
    "    Parâmetros de entrada:\n",
    "\n",
    "    fn: função que recebe um argumento numérico\n",
    "    xi: fração molar de um dado composto\n",
    "    \n",
    "    Parâmetro de saída:\n",
    "    \n",
    "    [t] : Temperatura em K. Deve ter apenas uma resposta\n",
    "    '''\n",
    "    \n",
    "    funcao = lambda t: fn(t) - xi\n",
    "    return fsolve(funcao, 353.15)"
   ]
  },
  {
   "cell_type": "code",
   "execution_count": 21,
   "id": "f71f074f-7bbe-49e8-92cc-bfe86447e8c0",
   "metadata": {},
   "outputs": [],
   "source": [
    "def prato_teorico(fracao_inicial):\n",
    "    \n",
    "    '''Retorna o pe de uma mistura em °C e sua composição de vapor,\n",
    "    dada a composição do líquido.\n",
    "    \n",
    "    Parâmetro de entrada:\n",
    "    \n",
    "    fracao_inical: a fração molar de tolueno na mistura\n",
    "    \n",
    "    Parâmetro de saída:\n",
    "    \n",
    "    tupla de (T em °C, fração molar de tolueno em vapor)\n",
    "    '''\n",
    "    \n",
    "    t = temperaturas(fracao_tolueno_liquido, fracao_inicial)\n",
    "    fracao_vapor = fracao_tolueno_vapor(t)\n",
    "    return t - 273.15, fracao_vapor"
   ]
  },
  {
   "cell_type": "code",
   "execution_count": 22,
   "id": "c418b839-918d-4d84-8079-8a93dff05f78",
   "metadata": {},
   "outputs": [],
   "source": [
    "# Partindo de uma composição inicial de 0,8 mol de tolueno, calcula os dados t e x para o prato_teorico\n",
    "\n",
    "x0 = 0.8\n",
    "t0, x1 = prato_teorico(x0)\n",
    "t1, x2 = prato_teorico(x1)\n",
    "t2, x3 = prato_teorico(x2)\n",
    "t3, x4 = prato_teorico(x3)\n",
    "t4, x5 = prato_teorico(x4)\n",
    "t5, x6 = prato_teorico(x5)\n",
    "t6, x7 = prato_teorico(x6)\n",
    "t7, x8 = prato_teorico(x7)\n",
    "t8, x9 = prato_teorico(x8)\n",
    "t9, x10 = prato_teorico(x9)\n",
    "t10, x11 = prato_teorico(x10)\n",
    "t11, x12 = prato_teorico(x11)"
   ]
  },
  {
   "cell_type": "code",
   "execution_count": 23,
   "id": "04990139-ec22-4be0-ac71-46264f00e5b2",
   "metadata": {},
   "outputs": [
    {
     "data": {
      "image/png": "[encoded data removed]",
      "text/plain": [
       "<Figure size 432x288 with 1 Axes>"
      ]
     },
     "metadata": {
      "needs_background": "light"
     },
     "output_type": "display_data"
    }
   ],
   "source": [
    "# Pontos dos compostos puros\n",
    "\n",
    "fig, ax = plt.subplots()\n",
    "\n",
    "ponto_ciclohexano = plt.scatter(0, pe_ciclohexano-273.15, \n",
    "                                   clip_on=False, color='#000000', label='ponto das substâncias puras')\n",
    "ponto_tolueno = plt.scatter(1, pe_tolueno-273.15, \n",
    "                                  clip_on=False, color='#000000')\n",
    "\n",
    "plt.xlim(-0.1, 1.1)\n",
    "plt.ylim(75.0, 115.0)\n",
    "\n",
    "curva_liquido = ax.plot(fracao_liquido, t_c, color='#0072b2', label='Tolueno')\n",
    "curva_vapor = ax.plot(fracao_vapor, t_c, color='#008000', label='Ciclohexano')\n",
    "\n",
    "ax.set(xlabel='← Ciclohexano | Fração Molar | Tolueno →', ylabel='T (°C)',\n",
    "       title='Diagrama de Fases para Tolueno e Ciclohexano')\n",
    "\n",
    "# Configuração do grid\n",
    "\n",
    "ax.grid(b=True, which='major', color='#666666', linestyle='-')\n",
    "\n",
    "ax.minorticks_on()\n",
    "ax.xaxis.grid(b=True, which='minor', color='#999999', linestyle='-', alpha=0.2, markevery=0.02)\n",
    "ax.yaxis.grid(b=True, which='minor', color='#999999', linestyle='-', alpha=0.2)\n",
    "\n",
    "x_major_spacing = 0.1\n",
    "x_minor_spacing = 0.02\n",
    "ax.xaxis.set_minor_locator(ticker.MultipleLocator(x_minor_spacing))\n",
    "ax.xaxis.set_major_locator(ticker.MultipleLocator(x_major_spacing))\n",
    "\n",
    "# Configuração de anotações no gráfico\n",
    "\n",
    "anotacao_fl = plt.annotate(\n",
    "    'Fase líquida',\n",
    "    xy=(1, pe_ciclohexano-273.15),\n",
    "    xycoords='data',\n",
    "    fontsize=12,\n",
    "    xytext=(-100, 10),\n",
    "    textcoords='offset points',)\n",
    "\n",
    "anotacao_m = plt.annotate(\n",
    "    'Mistura',\n",
    "    xy=(1, pe_ciclohexano-273.15),\n",
    "    xycoords='data',\n",
    "    fontsize=12,\n",
    "    xytext=(-150, 75),\n",
    "    textcoords='offset points',)\n",
    "\n",
    "\n",
    "anotacao_fv = plt.annotate(\n",
    "    'Fase vapor',\n",
    "    xy=(1, pe_ciclohexano-273.15),\n",
    "    xycoords='data',\n",
    "    fontsize=12,\n",
    "    xytext=(-250, 110),\n",
    "    textcoords='offset points',)\n",
    "\n",
    "plt.xlabel('← Ciclohexano | Fração Molar | Tolueno →')\n",
    "plt.ylabel('Temperatura (°C)')\n",
    "plt.legend()\n",
    "plt.title('Diagrama de fases')\n",
    "\n",
    "plt.show()"
   ]
  },
  {
   "cell_type": "code",
   "execution_count": 24,
   "id": "fae3948d-7dcb-4b3a-9afd-4dcac888bd54",
   "metadata": {},
   "outputs": [
    {
     "name": "stderr",
     "output_type": "stream",
     "text": [
      "c:\\venv\\ilumpy\\lib\\site-packages\\numpy\\core\\_asarray.py:136: VisibleDeprecationWarning: Creating an ndarray from ragged nested sequences (which is a list-or-tuple of lists-or-tuples-or ndarrays with different lengths or shapes) is deprecated. If you meant to do this, you must specify 'dtype=object' when creating the ndarray\n",
      "  return array(a, dtype, copy=False, order=order, subok=True)\n"
     ]
    },
    {
     "data": {
      "image/png": "[encoded data removed]",
      "text/plain": [
       "<Figure size 432x288 with 1 Axes>"
      ]
     },
     "metadata": {
      "needs_background": "light"
     },
     "output_type": "display_data"
    },
    {
     "name": "stdout",
     "output_type": "stream",
     "text": [
      "Fração destilada de tolueno a ser considerada: 0.9922\n",
      "Fração destilada de ciclohexano a ser considerada: 0.0078\n"
     ]
    }
   ],
   "source": [
    "# Gera o gráfico com as linhas de fases em equilíbrio obtidas por pratos teóricos\n",
    "\n",
    "fig, ax = plt.subplots()\n",
    "\n",
    "# pontos ao longo das curvas de líquido e vapor que unem os segmentos de linha\n",
    "\n",
    "l0 = plt.scatter([x0], [t0], color='#0072b2')\n",
    "v0 = plt.scatter([x1], [t0], color='#008000')\n",
    "l1 = plt.scatter([x1], [t1], color='#0072b2')\n",
    "v1 = plt.scatter([x2], [t1], color='#008000')\n",
    "l2 = plt.scatter([x2], [t2], color='#0072b2')\n",
    "v2 = plt.scatter([x3], [t2], color='#008000')\n",
    "l3 = plt.scatter([x3], [t3], color='#0072b2')\n",
    "v3 = plt.scatter([x4], [t3], color='#0072b2')\n",
    "v3 = plt.scatter([x4], [t4], color='#0072b2')\n",
    "v3 = plt.scatter([x5], [t4], color='#0072b2')\n",
    "\n",
    "curva_liquido = ax.plot(fracao_liquido, t_c, color='#0072b2', label='Curva delimitadora da fase líquida')\n",
    "curva_vapor = ax.plot(fracao_vapor, t_c, color='#008000', label='Curva delimitadora da fase vapor')\n",
    "plt.legend()\n",
    "\n",
    "# Segmentos de linha dos pratos teóricos\n",
    "\n",
    "vertical1 = plt.plot([x0, x0], [80, t0], color='#E50000', linestyle='--')\n",
    "horizontal1 = plt.plot([x0, x1], [t0, t0], color='#E50000', linestyle='--')\n",
    "vertical2 = plt.plot([x1, x1], [t0, t1], color='#E50000', linestyle='--')\n",
    "horizontal2 = plt.plot([x1, x2], [t1, t1], color='#E50000', linestyle='--')\n",
    "vertical3 = plt.plot([x2, x2], [t1, t2], color='#E50000', linestyle='--')\n",
    "horizontal3 = plt.plot([x2, x3], [t2, t2], color='#E50000', linestyle='--')\n",
    "vertical4 = plt.plot([x3, x3], [t2, t3], color='#E50000', linestyle='--')\n",
    "horizontal4 = plt.plot([x3, x4], [t3, t3], color='#E50000', linestyle='--')\n",
    "vertical5 = plt.plot([x4, x4], [t3, t4], color='#E50000', linestyle='--')\n",
    "horizontal5 = plt.plot([x4, x5], [t4, t4], color='#E50000', linestyle='--')\n",
    "vertical6 = plt.plot([x5, x5], [t4, t5], color='#E50000', linestyle='--')\n",
    "horizontal6 = plt.plot([x5, x6], [t5, t5], color='#E50000', linestyle='--')\n",
    "vertical7 = plt.plot([x6, x6], [t5, t6], color='#E50000', linestyle='--')\n",
    "\n",
    "# Configuração do grid\n",
    "\n",
    "plt.grid(b=True, which='major', color='#666666', linestyle='-')\n",
    "\n",
    "ax.minorticks_on()\n",
    "ax.xaxis.grid(b=True, which='minor', color='#999999', linestyle='-', alpha=0.2, markevery=0.02)\n",
    "ax.yaxis.grid(b=True, which='minor', color='#999999', linestyle='-', alpha=0.2)\n",
    "\n",
    "x_major_spacing = 0.1\n",
    "x_minor_spacing = 0.02\n",
    "ax.xaxis.set_minor_locator(ticker.MultipleLocator(x_minor_spacing))\n",
    "ax.xaxis.set_major_locator(ticker.MultipleLocator(x_major_spacing))\n",
    "\n",
    "plt.xlabel('← Ciclohexano | Fração Molar | Tolueno →')\n",
    "plt.ylabel('Temperatura (°C)')\n",
    "plt.legend()\n",
    "plt.title('Diagrama de fases')\n",
    "\n",
    "plt.show()\n",
    "\n",
    "print(\"Fração destilada de tolueno a ser considerada:\", round(1-x6, 4))\n",
    "print(\"Fração destilada de ciclohexano a ser considerada:\", round(x6, 4))"
   ]
  },
  {
   "cell_type": "markdown",
   "id": "a2de4514-bcbb-4120-9a1e-7a301666c0c6",
   "metadata": {},
   "source": [
    "Como pode ser observado no gráfico acima, os pratos teóricos são cada um dos estágios em que os dois compostos estabelecem um equilíbrio entre as fases líquido e vapor (VLE), sendo representados horizontalmente pelas linhas de amarração entre a fase líquida (em azul) e a fase de vapor (em verde). O ponto de partida é a fração molar 0,8. Quando o tolueno atinge a temperatura de 100°C, permanecendo a temperatura constante nesse ponto, há uma transição de fase líquida para vapor e uma diminuição na fração molar líquida de 0,8 para 0,6 na fração molar de vapor. Considerando um sistema fechado, quando a temperatura abaixa de 100°C para aproximadamente 92°C, parte do composto retorna para o estado líquido e há uma nova transição de fase nessa da temperatura. A linha vertical é denominada isopleta e é traçada na posição correspondente à composição global do sistema, ou seja, expressa a razão entre o número de moles do componente na fase líquida e de vapor e o número total de moles de todos os componentes. O ciclo se repete até atingir o ponto das substâncias quase puras, quando ambas estão próximas dos pontos de união das curvas."
   ]
  },
  {
   "cell_type": "code",
   "execution_count": 25,
   "id": "db43fbaf-1047-4cb7-a292-197e26c17984",
   "metadata": {},
   "outputs": [],
   "source": [
    "def temperaturas(fn, xi):\n",
    "    \n",
    "    '''Função para encontrar a temperatura em relação à fração molar, fn(t) = xi.\n",
    "    \n",
    "    Parâmetros de entrada:\n",
    "\n",
    "    fn: função que recebe um argumento numérico\n",
    "    xi: fração molar de um dado composto\n",
    "    \n",
    "    Parâmetro de saída:\n",
    "    \n",
    "    [t] : Temperatura em K. Deve ter apenas uma resposta\n",
    "    '''\n",
    "    \n",
    "    funcao_teste = lambda t: fn(t) - xi\n",
    "    return fsolve(funcao_teste, 363.15) # teste"
   ]
  },
  {
   "cell_type": "code",
   "execution_count": 26,
   "id": "f928e6c9-2190-4f31-882c-f3e4629cebcb",
   "metadata": {},
   "outputs": [
    {
     "data": {
      "image/png": "[encoded data removed]",
      "text/plain": [
       "<Figure size 432x288 with 1 Axes>"
      ]
     },
     "metadata": {
      "needs_background": "light"
     },
     "output_type": "display_data"
    }
   ],
   "source": [
    "fig, ax = plt.subplots()\n",
    "\n",
    "curva_liquido = ax.plot(fracao_liquido, t_c, color='#0072b2', label='Dado calculado - Fase líquida')\n",
    "curva_vapor = ax.plot(fracao_vapor, t_c, color='#008000', label='Dado calculado - Fase vapor')\n",
    "plt.plot(fracao_molar_tolueno, temperatura, label='Dado VLE-calc - Fase líquida', color='#F97306')\n",
    "plt.plot(fracao_molar_ciclohexano, temperatura, label='Dado VLE-calc - Fase vapor', color='#7E1E9C')\n",
    "plt.xlabel('← Ciclohexano | Fração Molar | Tolueno →')\n",
    "plt.ylabel('Temperatura (°C)')\n",
    "plt.legend()\n",
    "plt.title('Diagrama de fases')\n",
    "plt.grid()\n",
    "plt.show()"
   ]
  },
  {
   "cell_type": "markdown",
   "id": "ecfa1681-c6e2-413f-b16a-4e037d91252f",
   "metadata": {},
   "source": [
    "Conforme constatado no diagrama, há uma variação entre os dados calculados neste algoritmo e os dados obtidos pelo site Vapor-Liquid Equilibrium Calculator, para a curva de vapor. Através deste link http://www.vle-calc.com/documentation.html é possível verificar a documentação detalhada do algoritmo utilizado na plataforma, bem como os bancos de dados utilizados. Porém, devido a não disponibilização do código para análise do seu funcionamento, bem como desconhecimento acerca dos valores utilizados para variáveis como a variação de entalpia, inviabilizando reproduzir os cálculos para assegurar que o resultado seja equivalente aos dados fornecidos, serão considerados os dados conforme calculado neste notebook.\n",
    "\n",
    "Uma observação é que ambos os cálculos são teóricos, baseados em equações e em condições passíveis de serem previstas, ao contrário de estudos experimentais, onde podem ocorrer variações, em decorrência do meio ao qual as substâncias estão em interação."
   ]
  },
  {
   "cell_type": "markdown",
   "id": "fbf4c10c-67ab-4586-ba55-83fb6ed537a5",
   "metadata": {},
   "source": [
    "#### Dados referêntes à pressão obtidos pelo site *Vapor-Liquid Equilibrium Calculator* apenas para análise do comportamento dos compostos quando submentidos à pressão"
   ]
  },
  {
   "cell_type": "code",
   "execution_count": 27,
   "id": "09ffea10-6d3c-42c4-8d4d-ca5f36cedddb",
   "metadata": {},
   "outputs": [
    {
     "data": {
      "text/html": [
       "<div>\n",
       "<style scoped>\n",
       "    .dataframe tbody tr th:only-of-type {\n",
       "        vertical-align: middle;\n",
       "    }\n",
       "\n",
       "    .dataframe tbody tr th {\n",
       "        vertical-align: top;\n",
       "    }\n",
       "\n",
       "    .dataframe thead th {\n",
       "        text-align: right;\n",
       "    }\n",
       "</style>\n",
       "<table border=\"1\" class=\"dataframe\">\n",
       "  <thead>\n",
       "    <tr style=\"text-align: right;\">\n",
       "      <th></th>\n",
       "      <th>Pressure</th>\n",
       "      <th>x1</th>\n",
       "      <th>y1</th>\n",
       "    </tr>\n",
       "  </thead>\n",
       "  <tbody>\n",
       "    <tr>\n",
       "      <th>0</th>\n",
       "      <td>bar</td>\n",
       "      <td>mol fract.</td>\n",
       "      <td>NaN</td>\n",
       "    </tr>\n",
       "    <tr>\n",
       "      <th>1</th>\n",
       "      <td>0.986813</td>\n",
       "      <td>0</td>\n",
       "      <td>0.000000</td>\n",
       "    </tr>\n",
       "    <tr>\n",
       "      <th>2</th>\n",
       "      <td>0.986341</td>\n",
       "      <td>0.001</td>\n",
       "      <td>0.000522</td>\n",
       "    </tr>\n",
       "    <tr>\n",
       "      <th>3</th>\n",
       "      <td>0.986813</td>\n",
       "      <td>0</td>\n",
       "      <td>0.000000</td>\n",
       "    </tr>\n",
       "    <tr>\n",
       "      <th>4</th>\n",
       "      <td>0.986341</td>\n",
       "      <td>0.001</td>\n",
       "      <td>0.000522</td>\n",
       "    </tr>\n",
       "  </tbody>\n",
       "</table>\n",
       "</div>"
      ],
      "text/plain": [
       "   Pressure          x1         y1\n",
       "0      bar    mol fract.       NaN\n",
       "1  0.986813            0  0.000000\n",
       "2  0.986341        0.001  0.000522\n",
       "3  0.986813            0  0.000000\n",
       "4  0.986341        0.001  0.000522"
      ]
     },
     "execution_count": 27,
     "metadata": {},
     "output_type": "execute_result"
    }
   ],
   "source": [
    "dados = pd.read_csv('Dados pressão Tolueno e Ciclohexano.txt', sep = ',', engine='python', header=0)\n",
    "dados.head()"
   ]
  },
  {
   "cell_type": "code",
   "execution_count": 28,
   "id": "1581b7a1-1db6-49c9-bc34-a2b5891843d2",
   "metadata": {},
   "outputs": [],
   "source": [
    "pressao = dados.iloc[1:46, 0].astype(float)\n",
    "fracao_molar_tolueno = dados.iloc[1:46, 1].astype(float)\n",
    "fracao_molar_ciclohexano = dados.iloc[1:46, 2].astype(float)"
   ]
  },
  {
   "cell_type": "code",
   "execution_count": 29,
   "id": "463492e2-b5f1-45fd-a2f1-5704d5a12515",
   "metadata": {},
   "outputs": [
    {
     "data": {
      "image/png": "[encoded data removed]",
      "text/plain": [
       "<Figure size 432x288 with 1 Axes>"
      ]
     },
     "metadata": {
      "needs_background": "light"
     },
     "output_type": "display_data"
    }
   ],
   "source": [
    "fig, ax = plt.subplots()\n",
    "\n",
    "plt.plot(fracao_molar_tolueno, pressao, label='Tolueno', color='y')\n",
    "plt.plot(fracao_molar_ciclohexano, pressao, label='Ciclohexano', color='c')\n",
    "\n",
    "anotacao_fl = plt.annotate(\n",
    "    'Fase vapor',\n",
    "    xy=(1, 0.5),\n",
    "    xycoords='data',\n",
    "    fontsize=12,\n",
    "    xytext=(-280, 10),\n",
    "    textcoords='offset points',)\n",
    "\n",
    "anotacao_m = plt.annotate(\n",
    "    'Mistura',\n",
    "    xy=(1, 0.43),\n",
    "    xycoords='data',\n",
    "    fontsize=12,\n",
    "    xytext=(-177, 75),\n",
    "    textcoords='offset points',)\n",
    "\n",
    "\n",
    "anotacao_fv = plt.annotate(\n",
    "    'Fase líquida',\n",
    "    xy=(1, 0.5),\n",
    "    xycoords='data',\n",
    "    fontsize=12,\n",
    "    xytext=(-100, 110),\n",
    "    textcoords='offset points',)\n",
    "\n",
    "plt.xlabel('← Ciclohexano | Fração Molar | Tolueno →')\n",
    "plt.legend()\n",
    "plt.ylabel('Pressao (bar)')\n",
    "plt.title('Diagrama de fases')\n",
    "plt.grid()\n",
    "plt.show()"
   ]
  },
  {
   "cell_type": "markdown",
   "id": "883a113d-3617-4f69-995a-e7c400c57467",
   "metadata": {},
   "source": [
    "É perceptível que o comportamento medido ao variar a pressão é oposto ao observado para a temperatura, pois os compostos tendem a vaporizar com a diminuição da pressão e a liquefazer ao aumentar a pressão."
   ]
  },
  {
   "cell_type": "markdown",
   "id": "3c0aa73e-cba7-467f-81ee-07aa510620b6",
   "metadata": {},
   "source": [
    "### Conclusão"
   ]
  },
  {
   "cell_type": "markdown",
   "id": "3444f8db-babd-4dc1-a29e-405da1733499",
   "metadata": {},
   "source": [
    "Ao longo deste desafio, foi constatada a importância do entendimento acerca das variáveis que influenciam o comportamento das substâncias, como pressão e temperatura, e da aplicação da Leis de Raoult e a equação de Clausius-Clapeyron, que permitiram definir a pressão de vapor e determinar a separação fracionada da mistura binária, bem como a fração molar de cada composto ao fim do processo de separação. Além disso, também foi possível identificar o volume das substâncias, de acordo com a densidade da mistura, possibilitando calcular as dimensões mínimas do reservatório necessário para acondicionar a mistura. Para finalizar, o diagrama de fases aplicado é uma ferramenta fundamental para entender as proporções de fases em um sistema como o bifásico aqui estudado, e prever como as proporções variam à medida que as condições termodinâmicas são alteradas."
   ]
  },
  {
   "cell_type": "markdown",
   "id": "adb9d1d2-f0ff-4bb6-ab00-d46caabbafef",
   "metadata": {},
   "source": [
    "### Referências Bibliográficas:\n",
    "\n",
    "ANTIC, Dean. **picoSpin™ 45/80: Simple Distillation of a Toluene-Cyclohexane Mixture**. Thermo Fisher Scientific, Boulder, CO, USA, 2014.\n",
    "\n",
    "OLIVEIRA, Mário José de. **Termodinâmica**, Editora Livraria da Física, São Paulo, 2012, 2ed.\n",
    "\n",
    "SILVA, Amanda A.; REIS, Rodrigo A.; PAREDES, Márcio L. L. **Density and Viscosity of Decalin, Cyclohexane, and Toluene Binary Mixtures at (283.15, 293.15, 303.15, 313.15, and 323.15) K**. Journal of Chemical & Engineering Data, v. 54, n. 7, p. 2067–2072, 2009."
   ]
  }
 ],
 "metadata": {
  "kernelspec": {
   "display_name": "ilumpy",
   "language": "python",
   "name": "ilumpy"
  },
  "language_info": {
   "codemirror_mode": {
    "name": "ipython",
    "version": 3
   },
   "file_extension": ".py",
   "mimetype": "text/x-python",
   "name": "python",
   "nbconvert_exporter": "python",
   "pygments_lexer": "ipython3",
   "version": "3.9.7"
  }
 },
 "nbformat": 4,
 "nbformat_minor": 5
}
